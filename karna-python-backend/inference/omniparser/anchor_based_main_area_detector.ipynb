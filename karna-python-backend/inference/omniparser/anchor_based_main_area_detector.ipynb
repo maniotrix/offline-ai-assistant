{
 "cells": [
  {
   "cell_type": "code",
   "execution_count": 1,
   "metadata": {},
   "outputs": [],
   "source": [
    "#  add karna-python-backend to the path\n",
    "import sys\n",
    "sys.path.append('C:/Users/Prince/Documents/GitHub/Proejct-Karna/offline-ai-assistant/karna-python-backend')\n",
    "\n",
    "from importlib import reload  # Not needed in Python 2\n",
    "import logging\n",
    "reload(logging)\n",
    "logging.basicConfig(format='%(asctime)s %(levelname)s:%(message)s', level=logging.INFO, datefmt='%I:%M:%S')\n",
    "\n",
    "logger = logging.getLogger(__name__)\n",
    "\n"
   ]
  },
  {
   "cell_type": "code",
   "execution_count": 2,
   "metadata": {},
   "outputs": [
    {
     "name": "stderr",
     "output_type": "stream",
     "text": [
      "12:45:50 INFO:NumExpr defaulting to 12 threads.\n",
      "12:45:54 INFO:Starting AnchorBasedMainAreaDetector test...\n",
      "12:45:54 INFO:Using viewport for cropping: {'x': 0, 'y': 121, 'width': 1920, 'height': 919}\n",
      "12:45:54 INFO:Loading data from: C:\\Users\\Prince\\Documents\\GitHub\\Proejct-Karna\\offline-ai-assistant\\data\\chatgpt\\883c46f5-c62d-4799-baa1-5e3b12f12e8c\\screenshot_events_883c46f5-c62d-4799-baa1-5e3b12f12e8c.json\n",
      "12:45:54 INFO:Loading screenshot events from JSON file: C:\\Users\\Prince\\Documents\\GitHub\\Proejct-Karna\\offline-ai-assistant\\data\\chatgpt\\883c46f5-c62d-4799-baa1-5e3b12f12e8c\\screenshot_events_883c46f5-c62d-4799-baa1-5e3b12f12e8c.json\n",
      "12:45:54 INFO:Created temporary directory for cropped images: C:\\Users\\Prince\\AppData\\Local\\Temp\\omni_viewport_dgqqx3pd\n",
      "12:45:54 INFO:Loaded 4 valid mouse events with screenshots\n",
      "c:\\Users\\Prince\\Documents\\GitHub\\Proejct-Karna\\offline-ai-assistant\\venv\\lib\\site-packages\\transformers\\tokenization_utils_base.py:1617: FutureWarning: `clean_up_tokenization_spaces` was not set. It will be set to `True` by default. This behavior will be deprecated in transformers v4.45, and will be then set to `False` by default. For more details check this issue: https://github.com/huggingface/transformers/issues/31884\n",
      "  warnings.warn(\n",
      "c:\\Users\\Prince\\Documents\\GitHub\\Proejct-Karna\\offline-ai-assistant\\venv\\lib\\site-packages\\timm\\models\\layers\\__init__.py:48: FutureWarning: Importing from timm.models.layers is deprecated, please import via timm.layers\n",
      "  warnings.warn(f\"Importing from {__name__} is deprecated, please import via timm.layers\", FutureWarning)\n",
      "Florence2LanguageForConditionalGeneration has generative capabilities, as `prepare_inputs_for_generation` is explicitly overwritten. However, it doesn't directly inherit from `GenerationMixin`. From 👉v4.50👈 onwards, `PreTrainedModel` will NOT inherit from `GenerationMixin`, and this model will lose the ability to call `generate` and other related functions.\n",
      "  - If you're using `trust_remote_code=True`, you can get rid of this warning by loading the model with an auto class. See https://huggingface.co/docs/transformers/en/model_doc/auto#auto-classes\n",
      "  - If you are the owner of the model architecture code, please modify your model class such that it inherits from `GenerationMixin` (after `PreTrainedModel`, otherwise you'll get an exception).\n",
      "  - If you are not the owner of the model architecture class, please contact the model code owner to update it.\n",
      "12:46:02 INFO:Parsing image path: C:\\Users\\Prince\\AppData\\Local\\Temp\\omni_viewport_dgqqx3pd\\cropped_screenshot_20250329_131725_617204.png\n"
     ]
    },
    {
     "name": "stdout",
     "output_type": "stream",
     "text": [
      "Omniparser initialized!!!\n",
      "image size: (1920, 919)\n",
      "\n",
      "0: 640x1280 13 icons, 64.6ms\n",
      "Speed: 17.1ms preprocess, 64.6ms inference, 35.6ms postprocess per image at shape (1, 3, 640, 1280)\n",
      "len(filtered_boxes): 15 8\n"
     ]
    },
    {
     "name": "stderr",
     "output_type": "stream",
     "text": [
      "c:\\Users\\Prince\\Documents\\GitHub\\Proejct-Karna\\offline-ai-assistant\\venv\\lib\\site-packages\\transformers\\generation\\configuration_utils.py:649: UserWarning: `num_beams` is set to 1. However, `early_stopping` is set to `True` -- this flag is only used in beam-based generation modes. You should set `num_beams>1` or unset `early_stopping`.\n",
      "  warnings.warn(\n",
      "12:46:04 INFO:Created omniparser result for event_id: 9b073de5-e2c1-468f-a1ce-b7d033d4be7b\n",
      "12:46:04 INFO:Getting omniparser result model for event_id: 9b073de5-e2c1-468f-a1ce-b7d033d4be7b\n",
      "12:46:05 INFO:Converting parsed content df to bounding boxes for event_id: 9b073de5-e2c1-468f-a1ce-b7d033d4be7b\n",
      "12:46:05 INFO:Pre-processed parsed content results for event_id: 9b073de5-e2c1-468f-a1ce-b7d033d4be7b\n",
      "12:46:05 INFO:Creating omniparser result model for event_id: 9b073de5-e2c1-468f-a1ce-b7d033d4be7b\n",
      "12:46:05 INFO:Created omniparser result model for event_id: 9b073de5-e2c1-468f-a1ce-b7d033d4be7b\n",
      "12:46:05 INFO:Parsing image path: C:\\Users\\Prince\\AppData\\Local\\Temp\\omni_viewport_dgqqx3pd\\cropped_screenshot_20250329_131729_196616.png\n"
     ]
    },
    {
     "name": "stdout",
     "output_type": "stream",
     "text": [
      "time to get parsed content: 0.267075777053833\n",
      "image size: (1920, 919)\n",
      "\n",
      "0: 640x1280 14 icons, 65.8ms\n",
      "Speed: 15.7ms preprocess, 65.8ms inference, 0.0ms postprocess per image at shape (1, 3, 640, 1280)\n",
      "len(filtered_boxes): 15 7\n"
     ]
    },
    {
     "name": "stderr",
     "output_type": "stream",
     "text": [
      "c:\\Users\\Prince\\Documents\\GitHub\\Proejct-Karna\\offline-ai-assistant\\venv\\lib\\site-packages\\transformers\\generation\\configuration_utils.py:649: UserWarning: `num_beams` is set to 1. However, `early_stopping` is set to `True` -- this flag is only used in beam-based generation modes. You should set `num_beams>1` or unset `early_stopping`.\n",
      "  warnings.warn(\n",
      "12:46:06 INFO:Created omniparser result for event_id: 2065c037-ad71-41ff-b4b7-72ad3cfbc481\n",
      "12:46:06 INFO:Getting omniparser result model for event_id: 2065c037-ad71-41ff-b4b7-72ad3cfbc481\n",
      "12:46:06 INFO:Converting parsed content df to bounding boxes for event_id: 2065c037-ad71-41ff-b4b7-72ad3cfbc481\n",
      "12:46:06 INFO:Pre-processed parsed content results for event_id: 2065c037-ad71-41ff-b4b7-72ad3cfbc481\n",
      "12:46:06 INFO:Creating omniparser result model for event_id: 2065c037-ad71-41ff-b4b7-72ad3cfbc481\n",
      "12:46:06 INFO:Created omniparser result model for event_id: 2065c037-ad71-41ff-b4b7-72ad3cfbc481\n",
      "12:46:06 INFO:Parsing image path: C:\\Users\\Prince\\AppData\\Local\\Temp\\omni_viewport_dgqqx3pd\\cropped_screenshot_20250329_131757_316854.png\n"
     ]
    },
    {
     "name": "stdout",
     "output_type": "stream",
     "text": [
      "time to get parsed content: 0.2632138729095459\n",
      "image size: (1920, 919)\n",
      "\n",
      "0: 640x1280 18 icons, 71.5ms\n",
      "Speed: 0.0ms preprocess, 71.5ms inference, 0.0ms postprocess per image at shape (1, 3, 640, 1280)\n",
      "len(filtered_boxes): 21 11\n"
     ]
    },
    {
     "name": "stderr",
     "output_type": "stream",
     "text": [
      "c:\\Users\\Prince\\Documents\\GitHub\\Proejct-Karna\\offline-ai-assistant\\venv\\lib\\site-packages\\transformers\\generation\\configuration_utils.py:649: UserWarning: `num_beams` is set to 1. However, `early_stopping` is set to `True` -- this flag is only used in beam-based generation modes. You should set `num_beams>1` or unset `early_stopping`.\n",
      "  warnings.warn(\n",
      "12:46:07 INFO:Created omniparser result for event_id: bf685989-b84d-40ba-8287-5770a19a5f0c\n",
      "12:46:07 INFO:Getting omniparser result model for event_id: bf685989-b84d-40ba-8287-5770a19a5f0c\n",
      "12:46:07 INFO:Converting parsed content df to bounding boxes for event_id: bf685989-b84d-40ba-8287-5770a19a5f0c\n",
      "12:46:07 INFO:Pre-processed parsed content results for event_id: bf685989-b84d-40ba-8287-5770a19a5f0c\n",
      "12:46:07 INFO:Creating omniparser result model for event_id: bf685989-b84d-40ba-8287-5770a19a5f0c\n",
      "12:46:07 INFO:Created omniparser result model for event_id: bf685989-b84d-40ba-8287-5770a19a5f0c\n",
      "12:46:07 INFO:Parsing image path: C:\\Users\\Prince\\AppData\\Local\\Temp\\omni_viewport_dgqqx3pd\\cropped_screenshot_20250329_131801_573080.png\n"
     ]
    },
    {
     "name": "stdout",
     "output_type": "stream",
     "text": [
      "time to get parsed content: 0.2661550045013428\n",
      "image size: (1920, 919)\n",
      "\n",
      "0: 640x1280 20 icons, 64.1ms\n",
      "Speed: 18.1ms preprocess, 64.1ms inference, 2.0ms postprocess per image at shape (1, 3, 640, 1280)\n",
      "len(filtered_boxes): 24 11\n"
     ]
    },
    {
     "name": "stderr",
     "output_type": "stream",
     "text": [
      "c:\\Users\\Prince\\Documents\\GitHub\\Proejct-Karna\\offline-ai-assistant\\venv\\lib\\site-packages\\transformers\\generation\\configuration_utils.py:649: UserWarning: `num_beams` is set to 1. However, `early_stopping` is set to `True` -- this flag is only used in beam-based generation modes. You should set `num_beams>1` or unset `early_stopping`.\n",
      "  warnings.warn(\n",
      "12:46:08 INFO:Created omniparser result for event_id: 2d269a28-6aac-4484-84e7-18e7cf719987\n",
      "12:46:08 INFO:Getting omniparser result model for event_id: 2d269a28-6aac-4484-84e7-18e7cf719987\n",
      "12:46:08 INFO:Converting parsed content df to bounding boxes for event_id: 2d269a28-6aac-4484-84e7-18e7cf719987\n",
      "12:46:08 INFO:Pre-processed parsed content results for event_id: 2d269a28-6aac-4484-84e7-18e7cf719987\n",
      "12:46:08 INFO:Creating omniparser result model for event_id: 2d269a28-6aac-4484-84e7-18e7cf719987\n",
      "12:46:08 INFO:Created omniparser result model for event_id: 2d269a28-6aac-4484-84e7-18e7cf719987\n",
      "12:46:08 INFO:Completed getting omniparser result models for 4 events\n",
      "12:46:08 INFO:Successfully loaded 4 models from JSON file\n"
     ]
    },
    {
     "name": "stdout",
     "output_type": "stream",
     "text": [
      "time to get parsed content: 0.2788882255554199\n"
     ]
    },
    {
     "name": "stderr",
     "output_type": "stream",
     "text": [
      "12:46:09 INFO:DynamicAreaDetector initialized with min_change_frequency>=0.3, min_area_size>=0.01, grouping_distance<=0.1\n",
      "12:46:09 INFO:UIOptimizedDynamicAreaDetector initialized with x_overlap_threshold=0.3, min_vertical_region_height=0.1\n",
      "12:46:11 INFO:AnchorBasedMainAreaDetector initialized with model resnet50\n",
      "12:46:11 INFO:Training the detector...\n",
      "12:46:11 INFO:Training anchor-based main area detector using frames\n",
      "12:46:11 INFO:Training with image dimensions: 1920x919\n",
      "12:46:11 INFO:Using dynamic detector to find main content area\n",
      "12:46:11 INFO:Starting UI-optimized dynamic area detection for 4 frames\n",
      "12:46:11 INFO:Starting dynamic area detection for 4 frames\n",
      "12:46:11 INFO:Comparing frames 0 and 1\n",
      "12:46:11 INFO:Found 2 changes between frames 0 and 1\n",
      "12:46:11 INFO:Comparing frames 1 and 2\n",
      "12:46:11 INFO:Found 22 changes between frames 1 and 2\n",
      "12:46:11 INFO:Comparing frames 2 and 3\n",
      "12:46:12 INFO:Found 13 changes between frames 2 and 3\n",
      "12:46:12 INFO:Identified 17 dynamic regions from 3 frame pairs\n",
      "12:46:12 INFO:Dynamic area detection completed successfully\n",
      "12:46:12 INFO:UI-optimized dynamic area detection completed\n",
      "12:46:12 INFO:Detected main area from main_content_area: [531.0, 4.0, 1393.0, 878.0]\n",
      "12:46:12 INFO:Extracting patches for all UI elements\n",
      "12:46:13 INFO:Extracted patches for 15 elements\n",
      "12:46:13 INFO:Finding stable elements across frames\n",
      "12:46:13 INFO:Found 2 stable elements\n",
      "12:46:13 INFO:Identifying anchor points\n",
      "12:46:13 INFO:Selected 2 anchor points with direction distribution: {'top': 1, 'bottom': 1, 'left': 0, 'right': 0}\n",
      "12:46:13 INFO:Extracting main area references\n",
      "12:46:13 INFO:Created 4 main area references\n",
      "12:46:13 INFO:Saving model files to C:\\Users\\Prince\\AppData\\Local\\Temp\\tmpd2pwwv37\n",
      "12:46:13 ERROR:Test failed with error: 1 validation error for AnchorPointData\n",
      "element_id\n",
      "  Input should be a valid string [type=string_type, input_value=3, input_type=int]\n",
      "    For further information visit https://errors.pydantic.dev/2.10/v/string_type\n",
      "Traceback (most recent call last):\n",
      "  File \"c:\\Users\\Prince\\Documents\\GitHub\\Proejct-Karna\\offline-ai-assistant\\karna-python-backend\\inference\\omniparser\\anchor_based_main_area_detector_test.py\", line 950, in test_anchor_based_detector\n",
      "    training_result = detector.train_with_frames(\n",
      "  File \"C:\\Users/Prince/Documents/GitHub/Proejct-Karna/offline-ai-assistant/karna-python-backend\\inference\\omniparser\\anchor_based_main_area_detector.py\", line 577, in train_with_frames\n",
      "    serializable_anchors, serializable_references = self._save_model_files(\n",
      "  File \"C:\\Users/Prince/Documents/GitHub/Proejct-Karna/offline-ai-assistant/karna-python-backend\\inference\\omniparser\\anchor_based_main_area_detector.py\", line 461, in _save_model_files\n",
      "    anchor_data = AnchorPointData(\n",
      "  File \"c:\\Users\\Prince\\Documents\\GitHub\\Proejct-Karna\\offline-ai-assistant\\venv\\lib\\site-packages\\pydantic\\main.py\", line 214, in __init__\n",
      "    validated_self = self.__pydantic_validator__.validate_python(data, self_instance=self)\n",
      "pydantic_core._pydantic_core.ValidationError: 1 validation error for AnchorPointData\n",
      "element_id\n",
      "  Input should be a valid string [type=string_type, input_value=3, input_type=int]\n",
      "    For further information visit https://errors.pydantic.dev/2.10/v/string_type\n"
     ]
    }
   ],
   "source": [
    "from anchor_based_main_area_detector_test import test_anchor_based_detector\n",
    "test_anchor_based_detector(use_viewport=True)"
   ]
  }
 ],
 "metadata": {
  "kernelspec": {
   "display_name": "venv",
   "language": "python",
   "name": "python3"
  },
  "language_info": {
   "codemirror_mode": {
    "name": "ipython",
    "version": 3
   },
   "file_extension": ".py",
   "mimetype": "text/x-python",
   "name": "python",
   "nbconvert_exporter": "python",
   "pygments_lexer": "ipython3",
   "version": "3.10.11"
  }
 },
 "nbformat": 4,
 "nbformat_minor": 2
}
