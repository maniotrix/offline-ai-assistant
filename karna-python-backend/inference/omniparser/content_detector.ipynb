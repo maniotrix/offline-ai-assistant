{
 "cells": [
  {
   "cell_type": "code",
   "execution_count": 1,
   "metadata": {},
   "outputs": [],
   "source": [
    "# add karna-python-backend to the path\n",
    "import sys\n",
    "sys.path.append('C:/Users/Prince/Documents/GitHub/Proejct-Karna/offline-ai-assistant/karna-python-backend')\n",
    "\n",
    "from importlib import reload  # Not needed in Python 2\n",
    "import logging\n",
    "reload(logging)\n",
    "logging.basicConfig(format='%(asctime)s %(levelname)s:%(message)s', level=logging.INFO, datefmt='%I:%M:%S')\n",
    "\n",
    "logger = logging.getLogger(__name__)"
   ]
  },
  {
   "cell_type": "code",
   "execution_count": 2,
   "metadata": {},
   "outputs": [
    {
     "name": "stderr",
     "output_type": "stream",
     "text": [
      "11:08:22 INFO:NumExpr defaulting to 12 threads.\n",
      "11:08:32 INFO:Starting ContentDetector test...\n",
      "11:08:32 INFO:Using viewport for cropping: {'x': 0, 'y': 121, 'width': 1920, 'height': 919}\n",
      "11:08:32 INFO:Loading data from: C:\\Users\\Prince\\Documents\\GitHub\\Proejct-Karna\\offline-ai-assistant\\data\\chatgpt\\883c46f5-c62d-4799-baa1-5e3b12f12e8c\\screenshot_events_883c46f5-c62d-4799-baa1-5e3b12f12e8c.json\n",
      "11:08:32 INFO:Loading screenshot events from JSON file: C:\\Users\\Prince\\Documents\\GitHub\\Proejct-Karna\\offline-ai-assistant\\data\\chatgpt\\883c46f5-c62d-4799-baa1-5e3b12f12e8c\\screenshot_events_883c46f5-c62d-4799-baa1-5e3b12f12e8c.json\n",
      "11:08:32 INFO:Created temporary directory for cropped images: C:\\Users\\Prince\\AppData\\Local\\Temp\\omni_viewport_ve9zykts\n",
      "11:08:33 INFO:Loaded 4 valid mouse events with screenshots\n",
      "c:\\Users\\Prince\\Documents\\GitHub\\Proejct-Karna\\offline-ai-assistant\\venv\\lib\\site-packages\\transformers\\tokenization_utils_base.py:1617: FutureWarning: `clean_up_tokenization_spaces` was not set. It will be set to `True` by default. This behavior will be deprecated in transformers v4.45, and will be then set to `False` by default. For more details check this issue: https://github.com/huggingface/transformers/issues/31884\n",
      "  warnings.warn(\n",
      "c:\\Users\\Prince\\Documents\\GitHub\\Proejct-Karna\\offline-ai-assistant\\venv\\lib\\site-packages\\timm\\models\\layers\\__init__.py:48: FutureWarning: Importing from timm.models.layers is deprecated, please import via timm.layers\n",
      "  warnings.warn(f\"Importing from {__name__} is deprecated, please import via timm.layers\", FutureWarning)\n",
      "Florence2LanguageForConditionalGeneration has generative capabilities, as `prepare_inputs_for_generation` is explicitly overwritten. However, it doesn't directly inherit from `GenerationMixin`. From 👉v4.50👈 onwards, `PreTrainedModel` will NOT inherit from `GenerationMixin`, and this model will lose the ability to call `generate` and other related functions.\n",
      "  - If you're using `trust_remote_code=True`, you can get rid of this warning by loading the model with an auto class. See https://huggingface.co/docs/transformers/en/model_doc/auto#auto-classes\n",
      "  - If you are the owner of the model architecture code, please modify your model class such that it inherits from `GenerationMixin` (after `PreTrainedModel`, otherwise you'll get an exception).\n",
      "  - If you are not the owner of the model architecture class, please contact the model code owner to update it.\n",
      "11:08:43 INFO:Parsing image path: C:\\Users\\Prince\\AppData\\Local\\Temp\\omni_viewport_ve9zykts\\cropped_screenshot_20250329_131725_617204.png\n"
     ]
    },
    {
     "name": "stdout",
     "output_type": "stream",
     "text": [
      "Omniparser initialized!!!\n",
      "image size: (1920, 919)\n",
      "\n",
      "0: 640x1280 13 icons, 64.2ms\n",
      "Speed: 0.0ms preprocess, 64.2ms inference, 139.6ms postprocess per image at shape (1, 3, 640, 1280)\n",
      "len(filtered_boxes): 15 8\n"
     ]
    },
    {
     "name": "stderr",
     "output_type": "stream",
     "text": [
      "c:\\Users\\Prince\\Documents\\GitHub\\Proejct-Karna\\offline-ai-assistant\\venv\\lib\\site-packages\\transformers\\generation\\configuration_utils.py:649: UserWarning: `num_beams` is set to 1. However, `early_stopping` is set to `True` -- this flag is only used in beam-based generation modes. You should set `num_beams>1` or unset `early_stopping`.\n",
      "  warnings.warn(\n",
      "11:08:46 INFO:Created omniparser result for event_id: 9b073de5-e2c1-468f-a1ce-b7d033d4be7b\n",
      "11:08:46 INFO:Getting omniparser result model for event_id: 9b073de5-e2c1-468f-a1ce-b7d033d4be7b\n",
      "11:08:46 INFO:Converting parsed content df to bounding boxes for event_id: 9b073de5-e2c1-468f-a1ce-b7d033d4be7b\n",
      "11:08:46 INFO:Pre-processed parsed content results for event_id: 9b073de5-e2c1-468f-a1ce-b7d033d4be7b\n",
      "11:08:46 INFO:Creating omniparser result model for event_id: 9b073de5-e2c1-468f-a1ce-b7d033d4be7b\n",
      "11:08:46 INFO:Created omniparser result model for event_id: 9b073de5-e2c1-468f-a1ce-b7d033d4be7b\n",
      "11:08:46 INFO:Parsing image path: C:\\Users\\Prince\\AppData\\Local\\Temp\\omni_viewport_ve9zykts\\cropped_screenshot_20250329_131729_196616.png\n"
     ]
    },
    {
     "name": "stdout",
     "output_type": "stream",
     "text": [
      "time to get parsed content: 0.37293553352355957\n",
      "image size: (1920, 919)\n",
      "\n",
      "0: 640x1280 14 icons, 60.3ms\n",
      "Speed: 10.4ms preprocess, 60.3ms inference, 0.0ms postprocess per image at shape (1, 3, 640, 1280)\n",
      "len(filtered_boxes): 15 7\n"
     ]
    },
    {
     "name": "stderr",
     "output_type": "stream",
     "text": [
      "c:\\Users\\Prince\\Documents\\GitHub\\Proejct-Karna\\offline-ai-assistant\\venv\\lib\\site-packages\\transformers\\generation\\configuration_utils.py:649: UserWarning: `num_beams` is set to 1. However, `early_stopping` is set to `True` -- this flag is only used in beam-based generation modes. You should set `num_beams>1` or unset `early_stopping`.\n",
      "  warnings.warn(\n",
      "11:08:47 INFO:Created omniparser result for event_id: 2065c037-ad71-41ff-b4b7-72ad3cfbc481\n",
      "11:08:47 INFO:Getting omniparser result model for event_id: 2065c037-ad71-41ff-b4b7-72ad3cfbc481\n",
      "11:08:47 INFO:Converting parsed content df to bounding boxes for event_id: 2065c037-ad71-41ff-b4b7-72ad3cfbc481\n",
      "11:08:47 INFO:Pre-processed parsed content results for event_id: 2065c037-ad71-41ff-b4b7-72ad3cfbc481\n",
      "11:08:47 INFO:Creating omniparser result model for event_id: 2065c037-ad71-41ff-b4b7-72ad3cfbc481\n",
      "11:08:47 INFO:Created omniparser result model for event_id: 2065c037-ad71-41ff-b4b7-72ad3cfbc481\n",
      "11:08:47 INFO:Parsing image path: C:\\Users\\Prince\\AppData\\Local\\Temp\\omni_viewport_ve9zykts\\cropped_screenshot_20250329_131757_316854.png\n"
     ]
    },
    {
     "name": "stdout",
     "output_type": "stream",
     "text": [
      "time to get parsed content: 0.26344919204711914\n",
      "image size: (1920, 919)\n",
      "\n",
      "0: 640x1280 18 icons, 71.8ms\n",
      "Speed: 4.0ms preprocess, 71.8ms inference, 2.0ms postprocess per image at shape (1, 3, 640, 1280)\n",
      "len(filtered_boxes): 21 11\n"
     ]
    },
    {
     "name": "stderr",
     "output_type": "stream",
     "text": [
      "c:\\Users\\Prince\\Documents\\GitHub\\Proejct-Karna\\offline-ai-assistant\\venv\\lib\\site-packages\\transformers\\generation\\configuration_utils.py:649: UserWarning: `num_beams` is set to 1. However, `early_stopping` is set to `True` -- this flag is only used in beam-based generation modes. You should set `num_beams>1` or unset `early_stopping`.\n",
      "  warnings.warn(\n",
      "11:08:49 INFO:Created omniparser result for event_id: bf685989-b84d-40ba-8287-5770a19a5f0c\n",
      "11:08:49 INFO:Getting omniparser result model for event_id: bf685989-b84d-40ba-8287-5770a19a5f0c\n",
      "11:08:49 INFO:Converting parsed content df to bounding boxes for event_id: bf685989-b84d-40ba-8287-5770a19a5f0c\n",
      "11:08:49 INFO:Pre-processed parsed content results for event_id: bf685989-b84d-40ba-8287-5770a19a5f0c\n",
      "11:08:49 INFO:Creating omniparser result model for event_id: bf685989-b84d-40ba-8287-5770a19a5f0c\n",
      "11:08:49 INFO:Created omniparser result model for event_id: bf685989-b84d-40ba-8287-5770a19a5f0c\n",
      "11:08:49 INFO:Parsing image path: C:\\Users\\Prince\\AppData\\Local\\Temp\\omni_viewport_ve9zykts\\cropped_screenshot_20250329_131801_573080.png\n"
     ]
    },
    {
     "name": "stdout",
     "output_type": "stream",
     "text": [
      "time to get parsed content: 0.2656869888305664\n",
      "image size: (1920, 919)\n",
      "\n",
      "0: 640x1280 20 icons, 65.6ms\n",
      "Speed: 15.5ms preprocess, 65.6ms inference, 2.0ms postprocess per image at shape (1, 3, 640, 1280)\n",
      "len(filtered_boxes): 24 11\n"
     ]
    },
    {
     "name": "stderr",
     "output_type": "stream",
     "text": [
      "c:\\Users\\Prince\\Documents\\GitHub\\Proejct-Karna\\offline-ai-assistant\\venv\\lib\\site-packages\\transformers\\generation\\configuration_utils.py:649: UserWarning: `num_beams` is set to 1. However, `early_stopping` is set to `True` -- this flag is only used in beam-based generation modes. You should set `num_beams>1` or unset `early_stopping`.\n",
      "  warnings.warn(\n",
      "11:08:50 INFO:Created omniparser result for event_id: 2d269a28-6aac-4484-84e7-18e7cf719987\n",
      "11:08:50 INFO:Getting omniparser result model for event_id: 2d269a28-6aac-4484-84e7-18e7cf719987\n",
      "11:08:50 INFO:Converting parsed content df to bounding boxes for event_id: 2d269a28-6aac-4484-84e7-18e7cf719987\n",
      "11:08:50 INFO:Pre-processed parsed content results for event_id: 2d269a28-6aac-4484-84e7-18e7cf719987\n",
      "11:08:50 INFO:Creating omniparser result model for event_id: 2d269a28-6aac-4484-84e7-18e7cf719987\n",
      "11:08:50 INFO:Created omniparser result model for event_id: 2d269a28-6aac-4484-84e7-18e7cf719987\n",
      "11:08:50 INFO:Completed getting omniparser result models for 4 events\n",
      "11:08:50 INFO:Successfully loaded 4 models from JSON file\n"
     ]
    },
    {
     "name": "stdout",
     "output_type": "stream",
     "text": [
      "time to get parsed content: 0.275409460067749\n"
     ]
    },
    {
     "name": "stderr",
     "output_type": "stream",
     "text": [
      "11:08:51 INFO:DynamicAreaDetector initialized with min_change_frequency>=0.3, min_area_size>=0.01, grouping_distance<=0.1\n",
      "11:08:51 INFO:UIOptimizedDynamicAreaDetector initialized with x_overlap_threshold=0.3, min_vertical_region_height=0.1\n",
      "11:08:51 INFO:MainAreaSegmenter initialized with grid_size=(20, 20)\n",
      "11:08:51 INFO:ContentDetector initialized\n",
      "11:08:51 INFO:Running content detection...\n",
      "11:08:51 INFO:Starting content detection\n",
      "11:08:51 INFO:Starting UI-optimized dynamic area detection for 4 frames\n",
      "11:08:51 INFO:Starting dynamic area detection for 4 frames\n",
      "11:08:51 INFO:Comparing frames 0 and 1\n",
      "11:08:51 INFO:Found 2 changes between frames 0 and 1\n",
      "11:08:51 INFO:Comparing frames 1 and 2\n",
      "11:08:51 INFO:Found 22 changes between frames 1 and 2\n",
      "11:08:51 INFO:Comparing frames 2 and 3\n",
      "11:08:52 INFO:Found 13 changes between frames 2 and 3\n",
      "11:08:52 INFO:Identified 17 dynamic regions from 3 frame pairs\n",
      "11:08:52 INFO:Dynamic area detection completed successfully\n",
      "11:08:52 INFO:UI-optimized dynamic area detection completed\n",
      "11:08:52 INFO:Starting main area segmentation\n",
      "11:08:52 INFO:Dividing main area into 20x20 grid\n",
      "11:08:52 INFO:Created 400 patches\n",
      "11:08:52 INFO:Extracting features for patches\n",
      "11:08:52 INFO:Performing initial clustering\n",
      "11:08:52 INFO:Created 3 initial clusters\n",
      "11:08:52 INFO:Merging adjacent clusters\n",
      "11:08:53 INFO:Merged into 1 clusters\n",
      "11:08:53 INFO:Scoring content clusters\n",
      "11:08:53 INFO:Generating content probability map\n",
      "11:08:53 INFO:Main area segmentation completed\n",
      "11:08:53 INFO:Content detection completed successfully\n",
      "11:08:53 INFO:Content Detection Results:\n",
      "11:08:53 INFO:Dynamic Areas:\n",
      "11:08:53 INFO:  largest_area: [531.0, 102.0, 1393.0, 369.0]\n",
      "11:08:53 INFO:  center_weighted: [1903.0, 761.0, 1920.0, 788.0]\n",
      "11:08:53 INFO:  highest_frequency: [593.0, 375.0, 698.0, 409.0]\n",
      "11:08:53 INFO:  all_regions: 17 regions detected\n",
      "11:08:53 INFO:  vertical_union: [531.0, 4.0, 1393.0, 878.0]\n",
      "11:08:53 INFO:  main_content_area: [531.0, 4.0, 1393.0, 878.0]\n",
      "11:08:53 INFO:Main Content Area: [531.0, 4.0, 1393.0, 878.0]\n",
      "11:08:53 INFO:Content Clusters: 1 clusters found\n",
      "11:08:53 INFO:  Cluster 0: score=0.011, bbox=[531.0, 4.0, 1393.0, 878.0]\n",
      "11:08:53 INFO:Primary Content: [531.0, 4.0, 1393.0, 878.0]\n",
      "11:08:53 INFO:Creating visualizations...\n",
      "11:08:53 INFO:Cleared previous visualization files from c:\\Users\\Prince\\Documents\\GitHub\\Proejct-Karna\\offline-ai-assistant\\karna-python-backend\\inference\\omniparser\\content_detector_output\n",
      "11:08:53 INFO:Creating all visualization types...\n",
      "11:08:53 INFO:Saved content detection visualization to c:\\Users\\Prince\\Documents\\GitHub\\Proejct-Karna\\offline-ai-assistant\\karna-python-backend\\inference\\omniparser\\content_detector_output\\content_detection_20250404_110853.png\n",
      "11:08:53 INFO:Created overall content detection visualization\n",
      "11:08:54 INFO:Saved content segmentation visualization to c:\\Users\\Prince\\Documents\\GitHub\\Proejct-Karna\\offline-ai-assistant\\karna-python-backend\\inference\\omniparser\\content_detector_output\\content_segmentation_20250404_110853.png\n",
      "11:08:54 INFO:Created content segmentation visualization\n",
      "11:08:55 INFO:Saved comparison visualization to c:\\Users\\Prince\\Documents\\GitHub\\Proejct-Karna\\offline-ai-assistant\\karna-python-backend\\inference\\omniparser\\content_detector_output\\comparison_20250404_110854.png\n",
      "11:08:55 INFO:Created comparison visualization\n",
      "11:08:55 INFO:Created 3 visualization files: comparison_20250404_110854.png, content_detection_20250404_110853.png, content_segmentation_20250404_110853.png\n",
      "11:08:55 INFO:Test PASSED: Successfully detected main content area\n",
      "11:08:55 INFO:Visualization complete. Created 3 files at c:\\Users\\Prince\\Documents\\GitHub\\Proejct-Karna\\offline-ai-assistant\\karna-python-backend\\inference\\omniparser\\content_detector_output\n",
      "11:08:55 INFO:Loading screenshot events from JSON file: C:\\Users\\Prince\\Documents\\GitHub\\Proejct-Karna\\offline-ai-assistant\\data\\chatgpt\\883c46f5-c62d-4799-baa1-5e3b12f12e8c\\screenshot_events_883c46f5-c62d-4799-baa1-5e3b12f12e8c.json\n",
      "11:08:55 INFO:Loaded 4 valid mouse events with screenshots\n",
      "c:\\Users\\Prince\\Documents\\GitHub\\Proejct-Karna\\offline-ai-assistant\\venv\\lib\\site-packages\\transformers\\tokenization_utils_base.py:1617: FutureWarning: `clean_up_tokenization_spaces` was not set. It will be set to `True` by default. This behavior will be deprecated in transformers v4.45, and will be then set to `False` by default. For more details check this issue: https://github.com/huggingface/transformers/issues/31884\n",
      "  warnings.warn(\n",
      "11:09:03 INFO:Parsing image path: C:\\Users\\Prince\\Documents\\GitHub\\Proejct-Karna\\offline-ai-assistant\\data\\chatgpt\\883c46f5-c62d-4799-baa1-5e3b12f12e8c\\screenshots\\raw\\screenshot_20250329_131725_617204.png\n"
     ]
    },
    {
     "name": "stdout",
     "output_type": "stream",
     "text": [
      "Omniparser initialized!!!\n",
      "image size: (1920, 1080)\n",
      "\n",
      "0: 736x1280 94 icons, 61.7ms\n",
      "Speed: 18.0ms preprocess, 61.7ms inference, 0.0ms postprocess per image at shape (1, 3, 736, 1280)\n",
      "len(filtered_boxes): 101 38\n"
     ]
    },
    {
     "name": "stderr",
     "output_type": "stream",
     "text": [
      "c:\\Users\\Prince\\Documents\\GitHub\\Proejct-Karna\\offline-ai-assistant\\venv\\lib\\site-packages\\transformers\\generation\\configuration_utils.py:649: UserWarning: `num_beams` is set to 1. However, `early_stopping` is set to `True` -- this flag is only used in beam-based generation modes. You should set `num_beams>1` or unset `early_stopping`.\n",
      "  warnings.warn(\n",
      "11:09:06 INFO:Created omniparser result for event_id: 9b073de5-e2c1-468f-a1ce-b7d033d4be7b\n",
      "11:09:06 INFO:Getting omniparser result model for event_id: 9b073de5-e2c1-468f-a1ce-b7d033d4be7b\n",
      "11:09:06 INFO:Converting parsed content df to bounding boxes for event_id: 9b073de5-e2c1-468f-a1ce-b7d033d4be7b\n",
      "11:09:06 INFO:Pre-processed parsed content results for event_id: 9b073de5-e2c1-468f-a1ce-b7d033d4be7b\n",
      "11:09:06 INFO:Creating omniparser result model for event_id: 9b073de5-e2c1-468f-a1ce-b7d033d4be7b\n",
      "11:09:06 INFO:Created omniparser result model for event_id: 9b073de5-e2c1-468f-a1ce-b7d033d4be7b\n",
      "11:09:06 INFO:Parsing image path: C:\\Users\\Prince\\Documents\\GitHub\\Proejct-Karna\\offline-ai-assistant\\data\\chatgpt\\883c46f5-c62d-4799-baa1-5e3b12f12e8c\\screenshots\\raw\\screenshot_20250329_131729_196616.png\n"
     ]
    },
    {
     "name": "stdout",
     "output_type": "stream",
     "text": [
      "time to get parsed content: 0.6925926208496094\n",
      "image size: (1920, 1080)\n",
      "\n",
      "0: 736x1280 90 icons, 72.4ms\n",
      "Speed: 18.2ms preprocess, 72.4ms inference, 0.7ms postprocess per image at shape (1, 3, 736, 1280)\n",
      "len(filtered_boxes): 97 37\n"
     ]
    },
    {
     "name": "stderr",
     "output_type": "stream",
     "text": [
      "c:\\Users\\Prince\\Documents\\GitHub\\Proejct-Karna\\offline-ai-assistant\\venv\\lib\\site-packages\\transformers\\generation\\configuration_utils.py:649: UserWarning: `num_beams` is set to 1. However, `early_stopping` is set to `True` -- this flag is only used in beam-based generation modes. You should set `num_beams>1` or unset `early_stopping`.\n",
      "  warnings.warn(\n",
      "11:09:09 INFO:Created omniparser result for event_id: 2065c037-ad71-41ff-b4b7-72ad3cfbc481\n",
      "11:09:09 INFO:Getting omniparser result model for event_id: 2065c037-ad71-41ff-b4b7-72ad3cfbc481\n",
      "11:09:09 INFO:Converting parsed content df to bounding boxes for event_id: 2065c037-ad71-41ff-b4b7-72ad3cfbc481\n",
      "11:09:09 INFO:Pre-processed parsed content results for event_id: 2065c037-ad71-41ff-b4b7-72ad3cfbc481\n",
      "11:09:09 INFO:Creating omniparser result model for event_id: 2065c037-ad71-41ff-b4b7-72ad3cfbc481\n",
      "11:09:09 INFO:Created omniparser result model for event_id: 2065c037-ad71-41ff-b4b7-72ad3cfbc481\n",
      "11:09:09 INFO:Parsing image path: C:\\Users\\Prince\\Documents\\GitHub\\Proejct-Karna\\offline-ai-assistant\\data\\chatgpt\\883c46f5-c62d-4799-baa1-5e3b12f12e8c\\screenshots\\raw\\screenshot_20250329_131757_316854.png\n"
     ]
    },
    {
     "name": "stdout",
     "output_type": "stream",
     "text": [
      "time to get parsed content: 0.6676313877105713\n",
      "image size: (1920, 1080)\n",
      "\n",
      "0: 736x1280 91 icons, 70.8ms\n",
      "Speed: 22.2ms preprocess, 70.8ms inference, 2.0ms postprocess per image at shape (1, 3, 736, 1280)\n",
      "len(filtered_boxes): 100 36\n"
     ]
    },
    {
     "name": "stderr",
     "output_type": "stream",
     "text": [
      "c:\\Users\\Prince\\Documents\\GitHub\\Proejct-Karna\\offline-ai-assistant\\venv\\lib\\site-packages\\transformers\\generation\\configuration_utils.py:649: UserWarning: `num_beams` is set to 1. However, `early_stopping` is set to `True` -- this flag is only used in beam-based generation modes. You should set `num_beams>1` or unset `early_stopping`.\n",
      "  warnings.warn(\n",
      "11:09:12 INFO:Created omniparser result for event_id: bf685989-b84d-40ba-8287-5770a19a5f0c\n",
      "11:09:12 INFO:Getting omniparser result model for event_id: bf685989-b84d-40ba-8287-5770a19a5f0c\n",
      "11:09:12 INFO:Converting parsed content df to bounding boxes for event_id: bf685989-b84d-40ba-8287-5770a19a5f0c\n",
      "11:09:12 INFO:Pre-processed parsed content results for event_id: bf685989-b84d-40ba-8287-5770a19a5f0c\n",
      "11:09:12 INFO:Creating omniparser result model for event_id: bf685989-b84d-40ba-8287-5770a19a5f0c\n",
      "11:09:12 INFO:Created omniparser result model for event_id: bf685989-b84d-40ba-8287-5770a19a5f0c\n",
      "11:09:12 INFO:Parsing image path: C:\\Users\\Prince\\Documents\\GitHub\\Proejct-Karna\\offline-ai-assistant\\data\\chatgpt\\883c46f5-c62d-4799-baa1-5e3b12f12e8c\\screenshots\\raw\\screenshot_20250329_131801_573080.png\n"
     ]
    },
    {
     "name": "stdout",
     "output_type": "stream",
     "text": [
      "time to get parsed content: 0.7010912895202637\n",
      "image size: (1920, 1080)\n",
      "\n",
      "0: 736x1280 91 icons, 67.9ms\n",
      "Speed: 22.6ms preprocess, 67.9ms inference, 2.0ms postprocess per image at shape (1, 3, 736, 1280)\n",
      "len(filtered_boxes): 100 36\n"
     ]
    },
    {
     "name": "stderr",
     "output_type": "stream",
     "text": [
      "c:\\Users\\Prince\\Documents\\GitHub\\Proejct-Karna\\offline-ai-assistant\\venv\\lib\\site-packages\\transformers\\generation\\configuration_utils.py:649: UserWarning: `num_beams` is set to 1. However, `early_stopping` is set to `True` -- this flag is only used in beam-based generation modes. You should set `num_beams>1` or unset `early_stopping`.\n",
      "  warnings.warn(\n",
      "11:09:14 INFO:Created omniparser result for event_id: 2d269a28-6aac-4484-84e7-18e7cf719987\n",
      "11:09:14 INFO:Getting omniparser result model for event_id: 2d269a28-6aac-4484-84e7-18e7cf719987\n",
      "11:09:14 INFO:Converting parsed content df to bounding boxes for event_id: 2d269a28-6aac-4484-84e7-18e7cf719987\n",
      "11:09:14 INFO:Pre-processed parsed content results for event_id: 2d269a28-6aac-4484-84e7-18e7cf719987\n",
      "11:09:14 INFO:Creating omniparser result model for event_id: 2d269a28-6aac-4484-84e7-18e7cf719987\n",
      "11:09:14 INFO:Created omniparser result model for event_id: 2d269a28-6aac-4484-84e7-18e7cf719987\n",
      "11:09:14 INFO:Completed getting omniparser result models for 4 events\n"
     ]
    },
    {
     "name": "stdout",
     "output_type": "stream",
     "text": [
      "time to get parsed content: 0.6730329990386963\n"
     ]
    },
    {
     "name": "stderr",
     "output_type": "stream",
     "text": [
      "11:09:15 INFO:DynamicAreaDetector initialized with min_change_frequency>=0.3, min_area_size>=0.01, grouping_distance<=0.1\n",
      "11:09:15 INFO:UIOptimizedDynamicAreaDetector initialized with x_overlap_threshold=0.3, min_vertical_region_height=0.1\n",
      "11:09:15 INFO:MainAreaSegmenter initialized with grid_size=(20, 20)\n",
      "11:09:15 INFO:ContentDetector initialized\n",
      "11:09:15 INFO:Visualization saved to c:\\Users\\Prince\\Documents\\GitHub\\Proejct-Karna\\offline-ai-assistant\\karna-python-backend\\inference\\omniparser\\content_detector_output\\pil_visualization_20250404_110915.png\n",
      "11:09:15 INFO:Created PIL visualization at c:\\Users\\Prince\\Documents\\GitHub\\Proejct-Karna\\offline-ai-assistant\\karna-python-backend\\inference\\omniparser\\content_detector_output\\pil_visualization_20250404_110915.png\n"
     ]
    }
   ],
   "source": [
    "from content_detector_test import main\n",
    "main()\n"
   ]
  }
 ],
 "metadata": {
  "kernelspec": {
   "display_name": "venv",
   "language": "python",
   "name": "python3"
  },
  "language_info": {
   "codemirror_mode": {
    "name": "ipython",
    "version": 3
   },
   "file_extension": ".py",
   "mimetype": "text/x-python",
   "name": "python",
   "nbconvert_exporter": "python",
   "pygments_lexer": "ipython3",
   "version": "3.10.11"
  }
 },
 "nbformat": 4,
 "nbformat_minor": 2
}
