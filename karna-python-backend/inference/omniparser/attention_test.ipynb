{
 "cells": [
  {
   "cell_type": "code",
   "execution_count": 1,
   "metadata": {},
   "outputs": [],
   "source": [
    "#  add karna-python-backend to the path\n",
    "import sys\n",
    "sys.path.append('C:/Users/Prince/Documents/GitHub/Proejct-Karna/offline-ai-assistant/karna-python-backend')\n",
    "\n",
    "from importlib import reload  # Not needed in Python 2\n",
    "import logging\n",
    "reload(logging)\n",
    "logging.basicConfig(format='%(asctime)s %(levelname)s:%(message)s', level=logging.INFO, datefmt='%I:%M:%S')\n",
    "\n",
    "logger = logging.getLogger(__name__)\n",
    "\n"
   ]
  },
  {
   "cell_type": "code",
   "execution_count": 3,
   "metadata": {},
   "outputs": [
    {
     "name": "stderr",
     "output_type": "stream",
     "text": [
      "11:06:02 INFO:Loading screenshot events from JSON file: C:\\Users\\Prince\\Documents\\GitHub\\Proejct-Karna\\offline-ai-assistant\\data\\chatgpt\\883c46f5-c62d-4799-baa1-5e3b12f12e8c\\screenshot_events_883c46f5-c62d-4799-baa1-5e3b12f12e8c.json\n",
      "11:06:02 INFO:Loaded 4 valid mouse events with screenshots\n",
      "11:06:02 INFO:Saved visualization 1/4 to attention_visualization\\attention_field_001.png\n",
      "11:06:03 INFO:Saved visualization 2/4 to attention_visualization\\attention_field_002.png\n",
      "11:06:04 INFO:Saved visualization 3/4 to attention_visualization\\attention_field_003.png\n",
      "11:06:05 INFO:Saved visualization 4/4 to attention_visualization\\attention_field_004.png\n",
      "11:06:05 INFO:Completed visualization of attention fields for 4 events\n",
      "11:06:05 INFO:Output saved to directory: c:\\Users\\Prince\\Documents\\GitHub\\Proejct-Karna\\offline-ai-assistant\\karna-python-backend\\inference\\omniparser\\attention_visualization\n"
     ]
    }
   ],
   "source": [
    "import inference.omniparser.test_attention_controller as test_attention_controller\n",
    "test_attention_controller.main()"
   ]
  },
  {
   "cell_type": "code",
   "execution_count": 2,
   "metadata": {},
   "outputs": [
    {
     "name": "stderr",
     "output_type": "stream",
     "text": [
      "11:11:58 INFO:NumExpr defaulting to 12 threads.\n",
      "11:11:58 INFO:Loading screenshot events from JSON file: C:\\Users\\Prince\\Documents\\GitHub\\Proejct-Karna\\offline-ai-assistant\\data\\chatgpt\\883c46f5-c62d-4799-baa1-5e3b12f12e8c\\screenshot_events_883c46f5-c62d-4799-baa1-5e3b12f12e8c.json\n",
      "11:11:58 INFO:Loaded 4 valid mouse events with screenshots\n",
      "11:11:59 INFO:Saved visualization 1/4 to attention_visualization_extended\\attention_field_001.png\n",
      "11:12:00 INFO:Saved visualization 2/4 to attention_visualization_extended\\attention_field_002.png\n",
      "11:12:01 INFO:Saved visualization 3/4 to attention_visualization_extended\\attention_field_003.png\n",
      "11:12:01 INFO:Saved visualization 4/4 to attention_visualization_extended\\attention_field_004.png\n",
      "11:12:02 INFO:Saved patch priorities preview to attention_visualization_extended\\patch_priorities_preview.png\n",
      "11:12:02 INFO:Completed visualization of attention fields for 4 events\n",
      "11:12:02 INFO:Output saved to directory: c:\\Users\\Prince\\Documents\\GitHub\\Proejct-Karna\\offline-ai-assistant\\karna-python-backend\\inference\\omniparser\\attention_visualization_extended\n",
      "11:12:02 INFO:Note: Phase 2-4 features are placeholders and will be implemented in future updates\n"
     ]
    }
   ],
   "source": [
    "import inference.omniparser.test_attention_controller_extended as test_attention_controller_extended\n",
    "test_attention_controller_extended.main()"
   ]
  }
 ],
 "metadata": {
  "kernelspec": {
   "display_name": "venv",
   "language": "python",
   "name": "python3"
  },
  "language_info": {
   "codemirror_mode": {
    "name": "ipython",
    "version": 3
   },
   "file_extension": ".py",
   "mimetype": "text/x-python",
   "name": "python",
   "nbconvert_exporter": "python",
   "pygments_lexer": "ipython3",
   "version": "3.10.11"
  }
 },
 "nbformat": 4,
 "nbformat_minor": 2
}
