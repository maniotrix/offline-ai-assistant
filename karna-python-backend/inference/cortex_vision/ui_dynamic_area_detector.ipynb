{
 "cells": [
  {
   "cell_type": "code",
   "execution_count": 1,
   "metadata": {},
   "outputs": [],
   "source": [
    "# add karna-python-backend to the path\n",
    "import sys\n",
    "sys.path.append('C:/Users/Prince/Documents/GitHub/Proejct-Karna/offline-ai-assistant/karna-python-backend')\n",
    "\n",
    "from importlib import reload  # Not needed in Python 2\n",
    "import logging\n",
    "reload(logging)\n",
    "logging.basicConfig(format='%(asctime)s %(levelname)s:%(message)s', level=logging.INFO, datefmt='%I:%M:%S')\n",
    "\n",
    "logger = logging.getLogger(__name__)"
   ]
  },
  {
   "cell_type": "code",
   "execution_count": 2,
   "metadata": {},
   "outputs": [
    {
     "name": "stderr",
     "output_type": "stream",
     "text": [
      "06:41:05 INFO:NumExpr defaulting to 12 threads.\n",
      "06:41:10 INFO:Starting UIOptimizedDynamicAreaDetector test...\n",
      "06:41:10 INFO:Using viewport for cropping: {'x': 0, 'y': 121, 'width': 1920, 'height': 919}\n",
      "06:41:10 INFO:Loading data from: C:\\Users\\Prince\\Documents\\GitHub\\Proejct-Karna\\offline-ai-assistant\\data\\chatgpt\\883c46f5-c62d-4799-baa1-5e3b12f12e8c\\screenshot_events_883c46f5-c62d-4799-baa1-5e3b12f12e8c.json\n",
      "06:41:10 INFO:Loading screenshot events from JSON file: C:\\Users\\Prince\\Documents\\GitHub\\Proejct-Karna\\offline-ai-assistant\\data\\chatgpt\\883c46f5-c62d-4799-baa1-5e3b12f12e8c\\screenshot_events_883c46f5-c62d-4799-baa1-5e3b12f12e8c.json\n",
      "06:41:10 INFO:Created temporary directory for cropped images: C:\\Users\\Prince\\AppData\\Local\\Temp\\omni_viewport__h7lxu77\n",
      "06:41:10 INFO:Loaded 4 valid mouse events with screenshots\n",
      "c:\\Users\\Prince\\Documents\\GitHub\\Proejct-Karna\\offline-ai-assistant\\venv\\lib\\site-packages\\transformers\\tokenization_utils_base.py:1617: FutureWarning: `clean_up_tokenization_spaces` was not set. It will be set to `True` by default. This behavior will be deprecated in transformers v4.45, and will be then set to `False` by default. For more details check this issue: https://github.com/huggingface/transformers/issues/31884\n",
      "  warnings.warn(\n",
      "c:\\Users\\Prince\\Documents\\GitHub\\Proejct-Karna\\offline-ai-assistant\\venv\\lib\\site-packages\\timm\\models\\layers\\__init__.py:48: FutureWarning: Importing from timm.models.layers is deprecated, please import via timm.layers\n",
      "  warnings.warn(f\"Importing from {__name__} is deprecated, please import via timm.layers\", FutureWarning)\n",
      "Florence2LanguageForConditionalGeneration has generative capabilities, as `prepare_inputs_for_generation` is explicitly overwritten. However, it doesn't directly inherit from `GenerationMixin`. From 👉v4.50👈 onwards, `PreTrainedModel` will NOT inherit from `GenerationMixin`, and this model will lose the ability to call `generate` and other related functions.\n",
      "  - If you're using `trust_remote_code=True`, you can get rid of this warning by loading the model with an auto class. See https://huggingface.co/docs/transformers/en/model_doc/auto#auto-classes\n",
      "  - If you are the owner of the model architecture code, please modify your model class such that it inherits from `GenerationMixin` (after `PreTrainedModel`, otherwise you'll get an exception).\n",
      "  - If you are not the owner of the model architecture class, please contact the model code owner to update it.\n",
      "06:41:19 INFO:Parsing image path: C:\\Users\\Prince\\AppData\\Local\\Temp\\omni_viewport__h7lxu77\\cropped_screenshot_20250329_131725_617204.png\n"
     ]
    },
    {
     "name": "stdout",
     "output_type": "stream",
     "text": [
      "Omniparser initialized!!!\n",
      "image size: (1920, 919)\n",
      "\n",
      "0: 640x1280 13 icons, 66.4ms\n",
      "Speed: 1.4ms preprocess, 66.4ms inference, 50.9ms postprocess per image at shape (1, 3, 640, 1280)\n",
      "len(filtered_boxes): 15 8\n"
     ]
    },
    {
     "name": "stderr",
     "output_type": "stream",
     "text": [
      "c:\\Users\\Prince\\Documents\\GitHub\\Proejct-Karna\\offline-ai-assistant\\venv\\lib\\site-packages\\transformers\\generation\\configuration_utils.py:649: UserWarning: `num_beams` is set to 1. However, `early_stopping` is set to `True` -- this flag is only used in beam-based generation modes. You should set `num_beams>1` or unset `early_stopping`.\n",
      "  warnings.warn(\n",
      "06:41:21 INFO:Created omniparser result for event_id: 9b073de5-e2c1-468f-a1ce-b7d033d4be7b\n",
      "06:41:21 INFO:Getting omniparser result model for event_id: 9b073de5-e2c1-468f-a1ce-b7d033d4be7b\n",
      "06:41:21 INFO:Converting parsed content df to bounding boxes for event_id: 9b073de5-e2c1-468f-a1ce-b7d033d4be7b\n",
      "06:41:21 INFO:Pre-processed parsed content results for event_id: 9b073de5-e2c1-468f-a1ce-b7d033d4be7b\n",
      "06:41:21 INFO:Creating omniparser result model for event_id: 9b073de5-e2c1-468f-a1ce-b7d033d4be7b\n",
      "06:41:21 INFO:Created omniparser result model for event_id: 9b073de5-e2c1-468f-a1ce-b7d033d4be7b\n",
      "06:41:21 INFO:Parsing image path: C:\\Users\\Prince\\AppData\\Local\\Temp\\omni_viewport__h7lxu77\\cropped_screenshot_20250329_131729_196616.png\n"
     ]
    },
    {
     "name": "stdout",
     "output_type": "stream",
     "text": [
      "time to get parsed content: 0.3116576671600342\n",
      "image size: (1920, 919)\n",
      "\n",
      "0: 640x1280 14 icons, 55.7ms\n",
      "Speed: 33.8ms preprocess, 55.7ms inference, 0.0ms postprocess per image at shape (1, 3, 640, 1280)\n",
      "len(filtered_boxes): 15 7\n"
     ]
    },
    {
     "name": "stderr",
     "output_type": "stream",
     "text": [
      "c:\\Users\\Prince\\Documents\\GitHub\\Proejct-Karna\\offline-ai-assistant\\venv\\lib\\site-packages\\transformers\\generation\\configuration_utils.py:649: UserWarning: `num_beams` is set to 1. However, `early_stopping` is set to `True` -- this flag is only used in beam-based generation modes. You should set `num_beams>1` or unset `early_stopping`.\n",
      "  warnings.warn(\n",
      "06:41:23 INFO:Created omniparser result for event_id: 2065c037-ad71-41ff-b4b7-72ad3cfbc481\n",
      "06:41:23 INFO:Getting omniparser result model for event_id: 2065c037-ad71-41ff-b4b7-72ad3cfbc481\n",
      "06:41:23 INFO:Converting parsed content df to bounding boxes for event_id: 2065c037-ad71-41ff-b4b7-72ad3cfbc481\n",
      "06:41:23 INFO:Pre-processed parsed content results for event_id: 2065c037-ad71-41ff-b4b7-72ad3cfbc481\n",
      "06:41:23 INFO:Creating omniparser result model for event_id: 2065c037-ad71-41ff-b4b7-72ad3cfbc481\n",
      "06:41:23 INFO:Created omniparser result model for event_id: 2065c037-ad71-41ff-b4b7-72ad3cfbc481\n",
      "06:41:23 INFO:Parsing image path: C:\\Users\\Prince\\AppData\\Local\\Temp\\omni_viewport__h7lxu77\\cropped_screenshot_20250329_131757_316854.png\n"
     ]
    },
    {
     "name": "stdout",
     "output_type": "stream",
     "text": [
      "time to get parsed content: 0.23134136199951172\n",
      "image size: (1920, 919)\n",
      "\n",
      "0: 640x1280 18 icons, 63.1ms\n",
      "Speed: 19.1ms preprocess, 63.1ms inference, 3.3ms postprocess per image at shape (1, 3, 640, 1280)\n",
      "len(filtered_boxes): 21 11\n"
     ]
    },
    {
     "name": "stderr",
     "output_type": "stream",
     "text": [
      "c:\\Users\\Prince\\Documents\\GitHub\\Proejct-Karna\\offline-ai-assistant\\venv\\lib\\site-packages\\transformers\\generation\\configuration_utils.py:649: UserWarning: `num_beams` is set to 1. However, `early_stopping` is set to `True` -- this flag is only used in beam-based generation modes. You should set `num_beams>1` or unset `early_stopping`.\n",
      "  warnings.warn(\n",
      "06:41:24 INFO:Created omniparser result for event_id: bf685989-b84d-40ba-8287-5770a19a5f0c\n",
      "06:41:24 INFO:Getting omniparser result model for event_id: bf685989-b84d-40ba-8287-5770a19a5f0c\n",
      "06:41:24 INFO:Converting parsed content df to bounding boxes for event_id: bf685989-b84d-40ba-8287-5770a19a5f0c\n",
      "06:41:24 INFO:Pre-processed parsed content results for event_id: bf685989-b84d-40ba-8287-5770a19a5f0c\n",
      "06:41:24 INFO:Creating omniparser result model for event_id: bf685989-b84d-40ba-8287-5770a19a5f0c\n",
      "06:41:24 INFO:Created omniparser result model for event_id: bf685989-b84d-40ba-8287-5770a19a5f0c\n",
      "06:41:24 INFO:Parsing image path: C:\\Users\\Prince\\AppData\\Local\\Temp\\omni_viewport__h7lxu77\\cropped_screenshot_20250329_131801_573080.png\n"
     ]
    },
    {
     "name": "stdout",
     "output_type": "stream",
     "text": [
      "time to get parsed content: 0.28289008140563965\n",
      "image size: (1920, 919)\n",
      "\n",
      "0: 640x1280 20 icons, 61.9ms\n",
      "Speed: 12.4ms preprocess, 61.9ms inference, 3.0ms postprocess per image at shape (1, 3, 640, 1280)\n",
      "len(filtered_boxes): 24 11\n"
     ]
    },
    {
     "name": "stderr",
     "output_type": "stream",
     "text": [
      "c:\\Users\\Prince\\Documents\\GitHub\\Proejct-Karna\\offline-ai-assistant\\venv\\lib\\site-packages\\transformers\\generation\\configuration_utils.py:649: UserWarning: `num_beams` is set to 1. However, `early_stopping` is set to `True` -- this flag is only used in beam-based generation modes. You should set `num_beams>1` or unset `early_stopping`.\n",
      "  warnings.warn(\n",
      "06:41:25 INFO:Created omniparser result for event_id: 2d269a28-6aac-4484-84e7-18e7cf719987\n",
      "06:41:25 INFO:Getting omniparser result model for event_id: 2d269a28-6aac-4484-84e7-18e7cf719987\n",
      "06:41:25 INFO:Converting parsed content df to bounding boxes for event_id: 2d269a28-6aac-4484-84e7-18e7cf719987\n",
      "06:41:25 INFO:Pre-processed parsed content results for event_id: 2d269a28-6aac-4484-84e7-18e7cf719987\n",
      "06:41:25 INFO:Creating omniparser result model for event_id: 2d269a28-6aac-4484-84e7-18e7cf719987\n",
      "06:41:25 INFO:Created omniparser result model for event_id: 2d269a28-6aac-4484-84e7-18e7cf719987\n",
      "06:41:25 INFO:Completed getting omniparser result models for 4 events\n",
      "06:41:25 INFO:Successfully loaded 4 models from JSON file\n"
     ]
    },
    {
     "name": "stdout",
     "output_type": "stream",
     "text": [
      "time to get parsed content: 0.27596068382263184\n"
     ]
    },
    {
     "name": "stderr",
     "output_type": "stream",
     "text": [
      "06:41:26 INFO:DynamicAreaDetector initialized with min_change_frequency>=0.3, min_area_size>=0.01, grouping_distance<=0.1\n",
      "06:41:26 INFO:UIOptimizedDynamicAreaDetector initialized with x_overlap_threshold=0.3, min_vertical_region_height=0.1\n",
      "06:41:26 INFO:Running UI-optimized dynamic area detection...\n",
      "06:41:26 INFO:Starting UI-optimized dynamic area detection for 4 frames\n",
      "06:41:26 INFO:Starting dynamic area detection for 4 frames\n",
      "06:41:26 INFO:Comparing frames 0 and 1\n",
      "06:41:26 INFO:Found 2 changes between frames 0 and 1\n",
      "06:41:26 INFO:Comparing frames 1 and 2\n",
      "06:41:27 INFO:Found 22 changes between frames 1 and 2\n",
      "06:41:27 INFO:Comparing frames 2 and 3\n",
      "06:41:27 INFO:Found 13 changes between frames 2 and 3\n",
      "06:41:27 INFO:Identified 17 dynamic regions from 3 frame pairs\n",
      "06:41:27 INFO:Dynamic area detection completed successfully\n",
      "06:41:27 INFO:UI-optimized dynamic area detection completed\n",
      "06:41:27 INFO:UI-Optimized Detection Results:\n",
      "06:41:27 INFO:  largest_area: [531.0, 102.0, 1393.0, 369.0]\n",
      "06:41:27 INFO:  center_weighted: [1903.0, 761.0, 1920.0, 788.0]\n",
      "06:41:27 INFO:  highest_frequency: [593.0, 375.0, 698.0, 409.0]\n",
      "06:41:27 INFO:  all_regions: 17 regions detected\n",
      "06:41:27 INFO:  vertical_union: [531.0, 4.0, 1393.0, 878.0]\n",
      "06:41:27 INFO:  main_content_area: [531.0, 4.0, 1393.0, 878.0]\n",
      "06:41:27 INFO:Creating visualizations...\n",
      "06:41:27 INFO:Cleared previous visualization files from C:\\Users\\Prince\\Documents\\GitHub\\Proejct-Karna\\offline-ai-assistant\\karna-python-backend\\inference\\omniparser\\ui_detection_output\n",
      "06:41:27 INFO:Creating all visualization types...\n",
      "06:41:28 INFO:Saved all areas visualization to C:\\Users\\Prince\\Documents\\GitHub\\Proejct-Karna\\offline-ai-assistant\\karna-python-backend\\inference\\omniparser\\ui_detection_output\\all_detection_areas_.png\n",
      "06:41:28 INFO:Created all elements visualization\n",
      "06:41:29 INFO:Saved standard areas visualization to C:\\Users\\Prince\\Documents\\GitHub\\Proejct-Karna\\offline-ai-assistant\\karna-python-backend\\inference\\omniparser\\ui_detection_output\\standard_areas_.png\n",
      "06:41:29 INFO:Created standard areas visualization\n",
      "06:41:29 INFO:Saved UI-optimized areas visualization to C:\\Users\\Prince\\Documents\\GitHub\\Proejct-Karna\\offline-ai-assistant\\karna-python-backend\\inference\\omniparser\\ui_detection_output\\ui_optimized_areas_.png\n",
      "06:41:29 INFO:Created UI optimized areas visualization\n",
      "06:41:30 INFO:Saved largest-to-vertical comparison to C:\\Users\\Prince\\Documents\\GitHub\\Proejct-Karna\\offline-ai-assistant\\karna-python-backend\\inference\\omniparser\\ui_detection_output\\largest_to_vertical_comparison_.png\n",
      "06:41:30 INFO:Created largest to vertical comparison visualization\n",
      "06:41:30 INFO:Created 4 visualization files: all_detection_areas_.png, largest_to_vertical_comparison_.png, standard_areas_.png, ui_optimized_areas_.png\n",
      "06:41:30 INFO:Test PASSED: Successfully detected dynamic areas\n",
      "06:41:30 INFO:UI-specific areas detected successfully\n",
      "06:41:30 INFO:Found 17 regions in all_regions\n",
      "06:41:30 INFO:Visualization complete. Created 4 files at C:\\Users\\Prince\\Documents\\GitHub\\Proejct-Karna\\offline-ai-assistant\\karna-python-backend\\inference\\omniparser\\ui_detection_output\n"
     ]
    }
   ],
   "source": [
    "from inference.cortex_vision.ui_dynamic_area_detector_test import test_ui_dynamic_area_detector    \n",
    "\n",
    "test_ui_dynamic_area_detector(use_viewport=True)\n"
   ]
  }
 ],
 "metadata": {
  "kernelspec": {
   "display_name": "venv",
   "language": "python",
   "name": "python3"
  },
  "language_info": {
   "codemirror_mode": {
    "name": "ipython",
    "version": 3
   },
   "file_extension": ".py",
   "mimetype": "text/x-python",
   "name": "python",
   "nbconvert_exporter": "python",
   "pygments_lexer": "ipython3",
   "version": "3.10.11"
  }
 },
 "nbformat": 4,
 "nbformat_minor": 2
}
