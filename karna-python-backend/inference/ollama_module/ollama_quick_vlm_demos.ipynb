{
 "cells": [
  {
   "cell_type": "code",
   "execution_count": 1,
   "id": "c89d5a67-fd69-4219-a499-7dedc4792ae4",
   "metadata": {},
   "outputs": [],
   "source": [
    "from ollama_helper import async_stream_vlm_generate, async_llm_generate\n",
    "from pathlib import Path"
   ]
  },
  {
   "cell_type": "code",
   "execution_count": 2,
   "id": "572b48c1",
   "metadata": {},
   "outputs": [],
   "source": [
    "async def test_real_time_vlm_streaming():\n",
    "    \"\"\"Test real-time VLM streaming where chunks are displayed as they arrive\"\"\"\n",
    "    test_prompt = \"briefly Describe the image in 300 words\"\n",
    "    # Use notebook's directory instead of __file__\n",
    "    test_image = str(Path().resolve() / \"test.png\")\n",
    "    test_model = \"granite3.2-vision:latest\"\n",
    "    \n",
    "    print(f\"\\nTesting real-time VLM streaming with model: {test_model}\")\n",
    "    print(f\"Prompt: {test_prompt}\")\n",
    "    print(f\"Image: {test_image}\")\n",
    "    \n",
    "    try:\n",
    "        await async_stream_vlm_generate(prompt=test_prompt, image_path=test_image, model=test_model)\n",
    "    except Exception as e:\n",
    "        print(f\"Error: {str(e)}\")"
   ]
  },
  {
   "cell_type": "code",
   "execution_count": 3,
   "id": "806bfaed",
   "metadata": {},
   "outputs": [
    {
     "name": "stderr",
     "output_type": "stream",
     "text": [
      "INFO:vlm_client:Using streaming chat API with VLM model: granite3.2-vision:latest\n"
     ]
    },
    {
     "name": "stdout",
     "output_type": "stream",
     "text": [
      "\n",
      "Testing real-time VLM streaming with model: granite3.2-vision:latest\n",
      "Prompt: briefly Describe the image in 300 words\n",
      "Image: C:\\Users\\Prince\\Documents\\GitHub\\Proejct-Karna\\offline-ai-assistant\\karna-python-backend\\inference\\ollama_module\\test.png\n",
      "\n",
      "Streaming VLM response in real-time:\n",
      "--------------------------------------------------\n"
     ]
    },
    {
     "name": "stderr",
     "output_type": "stream",
     "text": [
      "INFO:httpx:HTTP Request: POST http://127.0.0.1:11434/api/chat \"HTTP/1.1 200 OK\"\n"
     ]
    },
    {
     "name": "stdout",
     "output_type": "stream",
     "text": [
      "\n",
      "The image is a screenshot of a web interface for a freelance platform or job board. It appears to be a part of a larger application with various features and functionalities. The main focus is on a list of job postings, each accompanied by details such as the title, description, location, and payment rate.\n",
      "\n",
      "### Job Posting Details:\n",
      "1. **Title**: \"Help fixing an excel budget file\"\n",
      "   - Description: \"3 interested $60/hr\"\n",
      "   - Location: Not specified\n",
      "   - Payment Rate: $60 per hour\n",
      "   - Duration: 29 minutes ago\n",
      "\n",
      "2. **Title**: \"Need help with building a budget\"\n",
      "   - Description: \"1 interest $60/hr\"\n",
      "   - Location: Not specified\n",
      "   - Payment Rate: $60 per hour\n",
      "   - Duration: 40 minutes ago\n",
      "\n",
      "3. **Title**: \"Linux and C support for school work\"\n",
      "   - Description: \"16 interested $80/hr\"\n",
      "   - Location: Not specified\n",
      "   - Payment Rate: $80 per hour\n",
      "   - Duration: An hour ago\n",
      "\n",
      "4. **Title**: \"Need help with an Excel task\"\n",
      "   - Description: \"11 interested $60/hr\"\n",
      "   - Location: Not specified\n",
      "   - Payment Rate: $60 per hour\n",
      "   - Duration: 2 hours ago\n",
      "\n",
      "5. **Title**: \"Looking for a tutor to teach me Azure Networking (AZ-700)\"\n",
      "   - Description: \"1 interest $60/hr\"\n",
      "   - Location: Not specified\n",
      "   - Payment Rate: $60 per hour\n",
      "   - Duration: 2 hours ago\n",
      "\n",
      "6. **Title**: \"Java recap with everything\"\n",
      "   - Description: \"17 interested $60/hr\"\n",
      "   - Location: Not specified\n",
      "   - Payment Rate: $60 per hour\n",
      "   - Duration: 3 hours ago\n",
      "\n",
      "7. **Title**: \"Need help fixing decaying rewards from RL\"\n",
      "   - Description: \"5 interested $80/hr\"\n",
      "   - Location: Not specified\n",
      "   - Payment Rate: $80 per hour\n",
      "   - Duration: 3 hours ago\n",
      "\n",
      "8. **Title**: \"I need help for upgrade my react native application to latest version\"\n",
      "   - Description: \"10 interested $60/hr\"\n",
      "   - Location: Not specified\n",
      "   - Payment Rate: $60 per hour\n",
      "   - Duration: 4 hours ago\n",
      "\n",
      "9. **Title**: \"GCP google cloud High availability and Disaster Recovery planning\"\n",
      "   - Description: \"6 interested $80/hr\"\n",
      "   - Location: Not specified\n",
      "   - Payment Rate: $80 per hour\n",
      "   - Duration: 5 hours ago\n",
      "\n",
      "10. **Title**: \"I have a large project I am looking for help with debugging\"\n",
      "    - Description: \"16 interested $80/hr\"\n",
      "    - Location: Not specified\n",
      "    - Payment Rate: $80 per hour\n",
      "    - Duration: 7 hours ago\n",
      "\n",
      "### Additional Features:\n",
      "- **Filters**: There are filters available, but the specific options are not visible in the image.\n",
      "- **Dashboard**: The dashboard is partially visible at the top of the screen, showing a list of scheduled sessions and other features.\n",
      "- **Mentor Mode**: This mode seems to be related to mentoring or guiding others, as indicated by the title \"Mentor mode.\"\n",
      "- **Code Reviews**: There is an option for code reviews, suggesting that the platform supports peer review processes.\n",
      "\n",
      "### Analysis:\n",
      "The image shows a diverse range of job postings, indicating that the platform caters to various skill sets and interests. The payment rates are relatively high, which might suggest that these jobs require specialized skills or experience. The duration of the posts varies from 2 hours to 7 hours, indicating that some jobs may be more time-consuming than others.\n",
      "\n",
      "The presence of a \"Mentor Mode\" suggests that the platform offers additional resources for learning and professional development, which could be valuable for both job seekers and experienced professionals looking to enhance their skills. The code review feature indicates an emphasis on quality assurance and collaboration within the community.\n",
      "\n",
      "Overall, the image provides a snapshot of a freelance platform that caters to a wide range of job postings, with a focus on specialized skills and professional development opportunities.\n",
      "--------------------------------------------------\n",
      "VLM streaming complete!\n"
     ]
    }
   ],
   "source": [
    "await test_real_time_vlm_streaming()"
   ]
  }
 ],
 "metadata": {
  "kernelspec": {
   "display_name": "venv",
   "language": "python",
   "name": "python3"
  },
  "language_info": {
   "codemirror_mode": {
    "name": "ipython",
    "version": 3
   },
   "file_extension": ".py",
   "mimetype": "text/x-python",
   "name": "python",
   "nbconvert_exporter": "python",
   "pygments_lexer": "ipython3",
   "version": "3.10.11"
  }
 },
 "nbformat": 4,
 "nbformat_minor": 5
}
