{
 "cells": [
  {
   "cell_type": "code",
   "execution_count": 19,
   "id": "c89d5a67-fd69-4219-a499-7dedc4792ae4",
   "metadata": {},
   "outputs": [],
   "source": [
    "from ollama_helper.llm.llm_helper import async_llm_generate\n",
    "from ollama_helper.vlm.vlm_helper import async_stream_vlm_generate\n",
    "from pathlib import Path\n",
    "# test_image = str(Path().resolve() / \"test.png\")"
   ]
  },
  {
   "cell_type": "code",
   "execution_count": 17,
   "id": "572b48c1",
   "metadata": {},
   "outputs": [],
   "source": [
    "async def test_real_time_vlm_streaming(use_system_prompt=True):\n",
    "    \"\"\"Test real-time VLM streaming where chunks are displayed as they arrive\"\"\"\n",
    "    test_prompt = \"\"\"Find all the open requests in the image and output all request details as a json object, \n",
    "    only include the title of each request in the list\"\"\"\n",
    "    # Use absolute path to ensure the file is found\n",
    "    test_image = str(Path().resolve() / \"test.png\")\n",
    "    test_model = \"granite3.2-vision:latest\"\n",
    "    \n",
    "    print(f\"\\nTesting real-time VLM streaming with model: {test_model}\")\n",
    "    print(f\"Prompt: {test_prompt}\")\n",
    "    print(f\"Image: {test_image}\")\n",
    "    \n",
    "    # Define system prompt if enabled\n",
    "    system_prompt = None\n",
    "    if use_system_prompt:\n",
    "        system_prompt = \"\"\"You are a good webpage screenshot reader. \n",
    "        You will be given a screenshot of a webpage and you properly analyse the image before answering the user's question.\"\"\"\n",
    "        print(f\"Using system prompt: {system_prompt}\")\n",
    "    \n",
    "    try:\n",
    "        await async_stream_vlm_generate(prompt=test_prompt, image_path=test_image, model=test_model, system=system_prompt)\n",
    "    except Exception as e:\n",
    "        print(f\"Error: {str(e)}\")"
   ]
  },
  {
   "cell_type": "code",
   "execution_count": 18,
   "id": "806bfaed",
   "metadata": {},
   "outputs": [
    {
     "name": "stderr",
     "output_type": "stream",
     "text": [
      "INFO:vlm_client:Using streaming chat API with VLM model: granite3.2-vision:latest\n"
     ]
    },
    {
     "name": "stdout",
     "output_type": "stream",
     "text": [
      "\n",
      "Testing real-time VLM streaming with model: granite3.2-vision:latest\n",
      "Prompt: Find all the open requests in the image and output all request details as a json object, \n",
      "    only include the title of each request in the list\n",
      "Image: C:\\Users\\Prince\\Documents\\GitHub\\Proejct-Karna\\offline-ai-assistant\\karna-python-backend\\inference\\ollama_module\\test.png\n",
      "Using system prompt: You are a good webpage screenshot reader. \n",
      "        You will be given a screenshot of a webpage and you properly analyse the image before answering the user's question.\n",
      "\n",
      "Streaming VLM response in real-time:\n",
      "--------------------------------------------------\n",
      "Using system prompt: You are a good webpage screenshot reader. \n",
      "       ...\n"
     ]
    },
    {
     "name": "stderr",
     "output_type": "stream",
     "text": [
      "INFO:httpx:HTTP Request: POST http://127.0.0.1:11434/api/chat \"HTTP/1.1 200 OK\"\n"
     ]
    },
    {
     "name": "stdout",
     "output_type": "stream",
     "text": [
      "\n",
      "{\n",
      "  \"title\": \"Help fixing an excel budget file\",\n",
      "  \"description\": \"3 interested 29 minutes ago $60/hr\",\n",
      "  \"url\": \"https://www.codementor.com/request/help-fixing-an-excel-budget-file\"\n",
      "},\n",
      "{\n",
      "  \"title\": \"Need help with building a budget\",\n",
      "  \"description\": \"1 interest 40 minutes ago $60/hr\",\n",
      "  \"url\": \"https://www.codementor.com/request/need-help-with-building-a-budget\"\n",
      "},\n",
      "{\n",
      "  \"title\": \"Linux and C support for school work\",\n",
      "  \"description\": \"16 interested an hour ago $80/hr\",\n",
      "  \"url\": \"https://www.codementor.com/request/linux-and-c-support-for-school-work\"\n",
      "},\n",
      "{\n",
      "  \"title\": \"My posts\",\n",
      "  \"description\": \"2 started  Find freelance jobs with pay ranging from $50-$80/hr.\",\n",
      "  \"url\": \"https://www.codementor.com/request/my-posts\"\n",
      "},\n",
      "{\n",
      "  \"title\": \"Need help with an Excel task\",\n",
      "  \"description\": \"1 interested 2 hours ago $60/hr\",\n",
      "  \"url\": \"https://www.codementor.com/request/need-help-with-an-excel-task\"\n",
      "},\n",
      "{\n",
      "  \"title\": \"Looking for a tutor to teach me Azure Networking (AZ-700)\",\n",
      "  \"description\": \"1 interested 2 hours ago $60/hr\",\n",
      "  \"url\": \"https://www.codementor.com/request/looking-for-a-tutor-to-teach-me-azure-networking-az-700\"\n",
      "},\n",
      "{\n",
      "  \"title\": \"java recap with everything\",\n",
      "  \"description\": \"17 interested 3 hours ago $60/hr\",\n",
      "  \"url\": \"https://www.codementor.com/request/java-recap-with-everything\"\n",
      "},\n",
      "{\n",
      "  \"title\": \"Need help fixing decaying rewards from RL\",\n",
      "  \"description\": \"5 interested 3 hours ago $80/hr\",\n",
      "  \"url\": \"https://www.codementor.com/request/need-help-fixing-decaying-rewards-from-rl\"\n",
      "},\n",
      "{\n",
      "  \"title\": \"I need help for upgrade my react native application to latest version\",\n",
      "  \"description\": \"10 interested 4 hours ago $60/hr\",\n",
      "  \"url\": \"https://www.codementor.com/request/i-need-help-for-upgrade-my-react-native-application-to-latest-version\"\n",
      "},\n",
      "{\n",
      "  \"title\": \"GCP google cloud High availability and Disaster Recovery\",\n",
      "  \"description\": \"6 interested 5 hours ago $80/hr\",\n",
      "  \"url\": \"https://www.codementor.com/request/gcp-google-cloud-high-availability-and-disaster-recovery\"\n",
      "},\n",
      "{\n",
      "  \"title\": \"I have a large project I am looking for help with debugging\",\n",
      "  \"description\": \"16 interested 7 hours ago $80/hr\",\n",
      "  \"url\": \"https://www.codementor.com/request/i-have-a-large-project-i-am-looking-for-help-with-debugging\"\n",
      "}\n",
      "--------------------------------------------------\n",
      "VLM streaming complete!\n"
     ]
    }
   ],
   "source": [
    "await test_real_time_vlm_streaming()"
   ]
  }
 ],
 "metadata": {
  "kernelspec": {
   "display_name": "venv",
   "language": "python",
   "name": "python3"
  },
  "language_info": {
   "codemirror_mode": {
    "name": "ipython",
    "version": 3
   },
   "file_extension": ".py",
   "mimetype": "text/x-python",
   "name": "python",
   "nbconvert_exporter": "python",
   "pygments_lexer": "ipython3",
   "version": "3.10.11"
  }
 },
 "nbformat": 4,
 "nbformat_minor": 5
}
